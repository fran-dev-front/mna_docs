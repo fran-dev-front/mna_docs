@cuda.jit("(uint64[:], uint64)", device=True)
def cuda_xorshiftstar(states, id):
    x = states[id]
    x ^= x >> 12
    x ^= x << 25 x ^= x >> 27
    states[id] = x
    return uint64(x) * uint64(2685821657736338717)