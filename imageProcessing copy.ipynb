{
 "cells": [
  {
   "cell_type": "code",
   "execution_count": 106,
   "metadata": {},
   "outputs": [],
   "source": [
    "import cv2\n",
    "from datetime import datetime\n",
    "import os\n",
    "import numpy as np\n",
    "from scipy.ndimage import convolve\n",
    "import matplotlib.pyplot as plt\n",
    "from scipy import ndimage\n",
    "import skimage.color as sc\n",
    "import numpy as np\n",
    "import skimage\n",
    "from scipy.ndimage import gaussian_filter as gauss\n",
    "\n",
    "\n",
    "img = ''\n",
    "sigma = 5 # 1, 3, 5, 10, 20\n",
    "kernel_size = 3 \n",
    "\n",
    "roi_img = np.zeros_like(img)\n",
    "\n",
    "def gaussBlur( img):\n",
    "        return cv2.GaussianBlur(img,(3,3), sigmaX=0, sigmaY=0)\n",
    "    \n",
    "def Sobel( img):\n",
    "        sobelx_img = cv2.Sobel(gaussBlur(img), ddepth=cv2.CV_64F, dx=1, dy=0, ksize=3)\n",
    "        sobelx_img = np.uint8(np.absolute(sobelx_img))\n",
    "        return sobelx_img\n",
    "\n",
    "def Laplaciano(img):\n",
    "        laplacian_img = cv2.Laplacian(gaussBlur(img), ddepth=cv2.CV_64F, ksize=3)\n",
    "        return laplacian_img\n",
    "\n",
    "def Canny(img):\n",
    "        canny_img = cv2.Canny(gaussBlur(img), threshold1=100, threshold2=200)\n",
    "        return canny_img\n",
    "\n",
    "\n",
    "def pipeline(img):\n",
    "        gauss_blur = gaussBlur(img)\n",
    "        canny_filter = Canny(gauss_blur)\n",
    "        img_mask = RoiFilter(canny_filter)\n",
    "        return img_mask\n",
    "    \n",
    "def displayImage( img):\n",
    "        fig = plt.figure(figsize=(12,10))\n",
    "        ax = fig.add_subplot(111)\n",
    "        ax.imshow(img, cmap='gray')\n",
    "\n",
    "def RoiFilter(img):\n",
    "        roi_img = np.zeros_like(img)\n",
    "        roi_img1 = cv2.fillPoly(roi_img, vertices, 255)\n",
    "        roi_mask = cv2.bitwise_and(img, roi_img1)\n",
    "        return roi_mask\n",
    "\n",
    "def Erosion(img):\n",
    "        kernel = np.ones((3,3),np.uint8)\n",
    "        erosion = cv2.dilate(img, kernel, 4)\n",
    "        return erosion\n",
    "\n",
    "def Hough(img):\n",
    "        rho = 2\n",
    "        theta = np.pi/200\n",
    "        threshold = 20\n",
    "        min_line_len = 0\n",
    "        max_line_gap = 0\n",
    "        img_maks = pipeline(img)\n",
    "        lines = cv2.HoughLinesP(img_maks, rho, theta, threshold,\n",
    "                                        np.array([]), minLineLength=min_line_len,\n",
    "                                        maxLineGap=max_line_gap)\n",
    "        img_lines = np.zeros((img_maks.shape[0], img_maks.shape[1], 3), dtype=np.uint8)\n",
    "        for line in lines:\n",
    "                for x1,y1,x2,y2 in line:\n",
    "                        cv2.line(img_lines, (x1, y1), (x2, y2), [255, 0, 0], 2)\n",
    "        \n",
    "        #print(lines)\n",
    "        return img_lines\n"
   ]
  },
  {
   "cell_type": "code",
   "execution_count": 107,
   "metadata": {},
   "outputs": [
    {
     "data": {
      "text/plain": [
       "()"
      ]
     },
     "execution_count": 107,
     "metadata": {},
     "output_type": "execute_result"
    }
   ],
   "source": [
    "\n",
    "img = cv2.imread('../../Images_auto/image.png')\n",
    "img_gray = cv2.cvtColor(img, cv2.COLOR_BGR2GRAY)\n",
    "rgb_image = cv2.cvtColor(img_gray, cv2.COLOR_BGR2RGB)\n",
    "img_arr = np.asarray(img_gray)\n",
    "\n",
    "#displayImage(Canny(img_gray))\n",
    "\n",
    "()"
   ]
  },
  {
   "cell_type": "code",
   "execution_count": 108,
   "metadata": {},
   "outputs": [
    {
     "data": {
      "text/plain": [
       "(64, 128)"
      ]
     },
     "execution_count": 108,
     "metadata": {},
     "output_type": "execute_result"
    }
   ],
   "source": [
    "img_arr.shape"
   ]
  },
  {
   "cell_type": "markdown",
   "metadata": {},
   "source": []
  },
  {
   "cell_type": "code",
   "execution_count": 109,
   "metadata": {},
   "outputs": [],
   "source": [
    "vertices =np.array([[(0,64),(10,35),(125,35),(128,64)]], dtype=np.int64)\n",
    "roi_img = np.zeros_like(img_gray)\n",
    "#erosion = Erosion(img_gray)\n",
    "#gauss_img = gaussBlur(img_gray)\n",
    "canny_img = Canny(img_gray)\n",
    "#sobel_img = Sobel(canny_img)\n",
    "\n",
    "cv2.fillPoly(roi_img, vertices, 255)\n",
    "img_mask = cv2.bitwise_and(canny_img, roi_img)\n",
    "#plt.imshow(canny_img, cmap='gray')"
   ]
  },
  {
   "cell_type": "code",
   "execution_count": 110,
   "metadata": {},
   "outputs": [
    {
     "data": {
      "text/plain": [
       "<matplotlib.image.AxesImage at 0x7f15034c2c10>"
      ]
     },
     "execution_count": 110,
     "metadata": {},
     "output_type": "execute_result"
    },
    {
     "data": {
      "image/png": "[encoded data removed]",
      "text/plain": [
       "<Figure size 640x480 with 1 Axes>"
      ]
     },
     "metadata": {},
     "output_type": "display_data"
    }
   ],
   "source": [
    "\n",
    "alpha = 3\n",
    "beta = 1\n",
    "gamma = 1\n",
    "img_lane_lines = cv2.addWeighted(rgb_image, alpha, Hough(img_mask), beta, gamma)\n",
    "plt.imshow(img_lane_lines)"
   ]
  }
 ],
 "metadata": {
  "kernelspec": {
   "display_name": "Python 3",
   "language": "python",
   "name": "python3"
  },
  "language_info": {
   "codemirror_mode": {
    "name": "ipython",
    "version": 3
   },
   "file_extension": ".py",
   "mimetype": "text/x-python",
   "name": "python",
   "nbconvert_exporter": "python",
   "pygments_lexer": "ipython3",
   "version": "3.11.9"
  }
 },
 "nbformat": 4,
 "nbformat_minor": 2
}
